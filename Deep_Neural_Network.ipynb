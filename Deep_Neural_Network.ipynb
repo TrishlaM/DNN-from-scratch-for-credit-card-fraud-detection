{
  "nbformat": 4,
  "nbformat_minor": 0,
  "metadata": {
    "kernelspec": {
      "display_name": "Python 3",
      "language": "python",
      "name": "python3"
    },
    "language_info": {
      "codemirror_mode": {
        "name": "ipython",
        "version": 3
      },
      "file_extension": ".py",
      "mimetype": "text/x-python",
      "name": "python",
      "nbconvert_exporter": "python",
      "pygments_lexer": "ipython3",
      "version": "3.7.1"
    },
    "colab": {
      "name": "Deep_Neural_Network.ipynb",
      "provenance": [],
      "collapsed_sections": [],
      "toc_visible": true
    }
  },
  "cells": [
    {
      "cell_type": "markdown",
      "metadata": {
        "id": "p4qC1ImhE9xT",
        "colab_type": "text"
      },
      "source": [
        "# Deep Neural Network for Credit Card Fraud-Detection - Application\n",
        "\n",
        "The dataset used was downloaded from https://www.kaggle.com/mlg-ulb/creditcardfraud.\n",
        "It contained transactions done in September 2013. It contains only numeric input variables as a \n",
        "result of PCA transformation due to confidentiality issues."
      ]
    },
    {
      "cell_type": "markdown",
      "metadata": {
        "id": "QuMJTXYCE9xV",
        "colab_type": "text"
      },
      "source": [
        "1. Importing all the packages required for the project."
      ]
    },
    {
      "cell_type": "code",
      "metadata": {
        "id": "8mCql13JE9xe",
        "colab_type": "code",
        "colab": {}
      },
      "source": [
        "import time\n",
        "import numpy as np\n",
        "import matplotlib.pyplot as plt\n",
        "import scipy\n",
        "import pandas as pd\n",
        "\n",
        "np.random.seed(1)"
      ],
      "execution_count": 0,
      "outputs": []
    },
    {
      "cell_type": "markdown",
      "metadata": {
        "id": "xtBWjFWZE9xj",
        "colab_type": "text"
      },
      "source": [
        "2. Reading in the dataset"
      ]
    },
    {
      "cell_type": "code",
      "metadata": {
        "id": "OywWm52FE9xl",
        "colab_type": "code",
        "outputId": "1a427850-587d-40cd-c96b-7c4bd326c63f",
        "colab": {
          "base_uri": "https://localhost:8080/",
          "height": 241
        }
      },
      "source": [
        "credit_data = pd.read_csv(r'/content/creditcard.csv')\n",
        "print(credit_data.shape)\n",
        "credit_data.head()"
      ],
      "execution_count": 127,
      "outputs": [
        {
          "output_type": "stream",
          "text": [
            "(284807, 31)\n"
          ],
          "name": "stdout"
        },
        {
          "output_type": "execute_result",
          "data": {
            "text/html": [
              "<div>\n",
              "<style scoped>\n",
              "    .dataframe tbody tr th:only-of-type {\n",
              "        vertical-align: middle;\n",
              "    }\n",
              "\n",
              "    .dataframe tbody tr th {\n",
              "        vertical-align: top;\n",
              "    }\n",
              "\n",
              "    .dataframe thead th {\n",
              "        text-align: right;\n",
              "    }\n",
              "</style>\n",
              "<table border=\"1\" class=\"dataframe\">\n",
              "  <thead>\n",
              "    <tr style=\"text-align: right;\">\n",
              "      <th></th>\n",
              "      <th>Time</th>\n",
              "      <th>V1</th>\n",
              "      <th>V2</th>\n",
              "      <th>V3</th>\n",
              "      <th>V4</th>\n",
              "      <th>V5</th>\n",
              "      <th>V6</th>\n",
              "      <th>V7</th>\n",
              "      <th>V8</th>\n",
              "      <th>V9</th>\n",
              "      <th>V10</th>\n",
              "      <th>V11</th>\n",
              "      <th>V12</th>\n",
              "      <th>V13</th>\n",
              "      <th>V14</th>\n",
              "      <th>V15</th>\n",
              "      <th>V16</th>\n",
              "      <th>V17</th>\n",
              "      <th>V18</th>\n",
              "      <th>V19</th>\n",
              "      <th>V20</th>\n",
              "      <th>V21</th>\n",
              "      <th>V22</th>\n",
              "      <th>V23</th>\n",
              "      <th>V24</th>\n",
              "      <th>V25</th>\n",
              "      <th>V26</th>\n",
              "      <th>V27</th>\n",
              "      <th>V28</th>\n",
              "      <th>Amount</th>\n",
              "      <th>Class</th>\n",
              "    </tr>\n",
              "  </thead>\n",
              "  <tbody>\n",
              "    <tr>\n",
              "      <th>0</th>\n",
              "      <td>0.0</td>\n",
              "      <td>-1.359807</td>\n",
              "      <td>-0.072781</td>\n",
              "      <td>2.536347</td>\n",
              "      <td>1.378155</td>\n",
              "      <td>-0.338321</td>\n",
              "      <td>0.462388</td>\n",
              "      <td>0.239599</td>\n",
              "      <td>0.098698</td>\n",
              "      <td>0.363787</td>\n",
              "      <td>0.090794</td>\n",
              "      <td>-0.551600</td>\n",
              "      <td>-0.617801</td>\n",
              "      <td>-0.991390</td>\n",
              "      <td>-0.311169</td>\n",
              "      <td>1.468177</td>\n",
              "      <td>-0.470401</td>\n",
              "      <td>0.207971</td>\n",
              "      <td>0.025791</td>\n",
              "      <td>0.403993</td>\n",
              "      <td>0.251412</td>\n",
              "      <td>-0.018307</td>\n",
              "      <td>0.277838</td>\n",
              "      <td>-0.110474</td>\n",
              "      <td>0.066928</td>\n",
              "      <td>0.128539</td>\n",
              "      <td>-0.189115</td>\n",
              "      <td>0.133558</td>\n",
              "      <td>-0.021053</td>\n",
              "      <td>149.62</td>\n",
              "      <td>0</td>\n",
              "    </tr>\n",
              "    <tr>\n",
              "      <th>1</th>\n",
              "      <td>0.0</td>\n",
              "      <td>1.191857</td>\n",
              "      <td>0.266151</td>\n",
              "      <td>0.166480</td>\n",
              "      <td>0.448154</td>\n",
              "      <td>0.060018</td>\n",
              "      <td>-0.082361</td>\n",
              "      <td>-0.078803</td>\n",
              "      <td>0.085102</td>\n",
              "      <td>-0.255425</td>\n",
              "      <td>-0.166974</td>\n",
              "      <td>1.612727</td>\n",
              "      <td>1.065235</td>\n",
              "      <td>0.489095</td>\n",
              "      <td>-0.143772</td>\n",
              "      <td>0.635558</td>\n",
              "      <td>0.463917</td>\n",
              "      <td>-0.114805</td>\n",
              "      <td>-0.183361</td>\n",
              "      <td>-0.145783</td>\n",
              "      <td>-0.069083</td>\n",
              "      <td>-0.225775</td>\n",
              "      <td>-0.638672</td>\n",
              "      <td>0.101288</td>\n",
              "      <td>-0.339846</td>\n",
              "      <td>0.167170</td>\n",
              "      <td>0.125895</td>\n",
              "      <td>-0.008983</td>\n",
              "      <td>0.014724</td>\n",
              "      <td>2.69</td>\n",
              "      <td>0</td>\n",
              "    </tr>\n",
              "    <tr>\n",
              "      <th>2</th>\n",
              "      <td>1.0</td>\n",
              "      <td>-1.358354</td>\n",
              "      <td>-1.340163</td>\n",
              "      <td>1.773209</td>\n",
              "      <td>0.379780</td>\n",
              "      <td>-0.503198</td>\n",
              "      <td>1.800499</td>\n",
              "      <td>0.791461</td>\n",
              "      <td>0.247676</td>\n",
              "      <td>-1.514654</td>\n",
              "      <td>0.207643</td>\n",
              "      <td>0.624501</td>\n",
              "      <td>0.066084</td>\n",
              "      <td>0.717293</td>\n",
              "      <td>-0.165946</td>\n",
              "      <td>2.345865</td>\n",
              "      <td>-2.890083</td>\n",
              "      <td>1.109969</td>\n",
              "      <td>-0.121359</td>\n",
              "      <td>-2.261857</td>\n",
              "      <td>0.524980</td>\n",
              "      <td>0.247998</td>\n",
              "      <td>0.771679</td>\n",
              "      <td>0.909412</td>\n",
              "      <td>-0.689281</td>\n",
              "      <td>-0.327642</td>\n",
              "      <td>-0.139097</td>\n",
              "      <td>-0.055353</td>\n",
              "      <td>-0.059752</td>\n",
              "      <td>378.66</td>\n",
              "      <td>0</td>\n",
              "    </tr>\n",
              "    <tr>\n",
              "      <th>3</th>\n",
              "      <td>1.0</td>\n",
              "      <td>-0.966272</td>\n",
              "      <td>-0.185226</td>\n",
              "      <td>1.792993</td>\n",
              "      <td>-0.863291</td>\n",
              "      <td>-0.010309</td>\n",
              "      <td>1.247203</td>\n",
              "      <td>0.237609</td>\n",
              "      <td>0.377436</td>\n",
              "      <td>-1.387024</td>\n",
              "      <td>-0.054952</td>\n",
              "      <td>-0.226487</td>\n",
              "      <td>0.178228</td>\n",
              "      <td>0.507757</td>\n",
              "      <td>-0.287924</td>\n",
              "      <td>-0.631418</td>\n",
              "      <td>-1.059647</td>\n",
              "      <td>-0.684093</td>\n",
              "      <td>1.965775</td>\n",
              "      <td>-1.232622</td>\n",
              "      <td>-0.208038</td>\n",
              "      <td>-0.108300</td>\n",
              "      <td>0.005274</td>\n",
              "      <td>-0.190321</td>\n",
              "      <td>-1.175575</td>\n",
              "      <td>0.647376</td>\n",
              "      <td>-0.221929</td>\n",
              "      <td>0.062723</td>\n",
              "      <td>0.061458</td>\n",
              "      <td>123.50</td>\n",
              "      <td>0</td>\n",
              "    </tr>\n",
              "    <tr>\n",
              "      <th>4</th>\n",
              "      <td>2.0</td>\n",
              "      <td>-1.158233</td>\n",
              "      <td>0.877737</td>\n",
              "      <td>1.548718</td>\n",
              "      <td>0.403034</td>\n",
              "      <td>-0.407193</td>\n",
              "      <td>0.095921</td>\n",
              "      <td>0.592941</td>\n",
              "      <td>-0.270533</td>\n",
              "      <td>0.817739</td>\n",
              "      <td>0.753074</td>\n",
              "      <td>-0.822843</td>\n",
              "      <td>0.538196</td>\n",
              "      <td>1.345852</td>\n",
              "      <td>-1.119670</td>\n",
              "      <td>0.175121</td>\n",
              "      <td>-0.451449</td>\n",
              "      <td>-0.237033</td>\n",
              "      <td>-0.038195</td>\n",
              "      <td>0.803487</td>\n",
              "      <td>0.408542</td>\n",
              "      <td>-0.009431</td>\n",
              "      <td>0.798278</td>\n",
              "      <td>-0.137458</td>\n",
              "      <td>0.141267</td>\n",
              "      <td>-0.206010</td>\n",
              "      <td>0.502292</td>\n",
              "      <td>0.219422</td>\n",
              "      <td>0.215153</td>\n",
              "      <td>69.99</td>\n",
              "      <td>0</td>\n",
              "    </tr>\n",
              "  </tbody>\n",
              "</table>\n",
              "</div>"
            ],
            "text/plain": [
              "   Time        V1        V2        V3  ...       V27       V28  Amount  Class\n",
              "0   0.0 -1.359807 -0.072781  2.536347  ...  0.133558 -0.021053  149.62      0\n",
              "1   0.0  1.191857  0.266151  0.166480  ... -0.008983  0.014724    2.69      0\n",
              "2   1.0 -1.358354 -1.340163  1.773209  ... -0.055353 -0.059752  378.66      0\n",
              "3   1.0 -0.966272 -0.185226  1.792993  ...  0.062723  0.061458  123.50      0\n",
              "4   2.0 -1.158233  0.877737  1.548718  ...  0.219422  0.215153   69.99      0\n",
              "\n",
              "[5 rows x 31 columns]"
            ]
          },
          "metadata": {
            "tags": []
          },
          "execution_count": 127
        }
      ]
    },
    {
      "cell_type": "markdown",
      "metadata": {
        "id": "pQLfdLqwE9xp",
        "colab_type": "text"
      },
      "source": [
        "3. Creating train-test split of 75-25"
      ]
    },
    {
      "cell_type": "code",
      "metadata": {
        "id": "fkGQqViCE9xr",
        "colab_type": "code",
        "outputId": "70b6d5da-0698-4450-a8d5-1dea3e5cdcec",
        "colab": {
          "base_uri": "https://localhost:8080/",
          "height": 255
        }
      },
      "source": [
        "from sklearn.model_selection import train_test_split\n",
        "\n",
        "X = credit_data.iloc[:, 1:30]\n",
        "Y = credit_data['Class']\n",
        "\n",
        "print('X : ', X.head())\n",
        "print('Y : ', Y.head())"
      ],
      "execution_count": 128,
      "outputs": [
        {
          "output_type": "stream",
          "text": [
            "X :           V1        V2        V3        V4  ...       V26       V27       V28  Amount\n",
            "0 -1.359807 -0.072781  2.536347  1.378155  ... -0.189115  0.133558 -0.021053  149.62\n",
            "1  1.191857  0.266151  0.166480  0.448154  ...  0.125895 -0.008983  0.014724    2.69\n",
            "2 -1.358354 -1.340163  1.773209  0.379780  ... -0.139097 -0.055353 -0.059752  378.66\n",
            "3 -0.966272 -0.185226  1.792993 -0.863291  ... -0.221929  0.062723  0.061458  123.50\n",
            "4 -1.158233  0.877737  1.548718  0.403034  ...  0.502292  0.219422  0.215153   69.99\n",
            "\n",
            "[5 rows x 29 columns]\n",
            "Y :  0    0\n",
            "1    0\n",
            "2    0\n",
            "3    0\n",
            "4    0\n",
            "Name: Class, dtype: int64\n"
          ],
          "name": "stdout"
        }
      ]
    },
    {
      "cell_type": "code",
      "metadata": {
        "id": "JFAeePpSE9xx",
        "colab_type": "code",
        "outputId": "d8fad7e1-aa9a-4113-c944-513bf194a7c1",
        "colab": {
          "base_uri": "https://localhost:8080/",
          "height": 85
        }
      },
      "source": [
        "X_train, X_test, Y_train, Y_test = train_test_split(X, Y, test_size = 0.25, random_state = 1234)\n",
        "print('Shape of X_train : ', X_train.shape)\n",
        "print('Shape of X_test : ', X_test.shape)\n",
        "print('Shape of Y_train : ', Y_train.shape)\n",
        "print('Shape of Y_test : ', Y_test.shape)"
      ],
      "execution_count": 129,
      "outputs": [
        {
          "output_type": "stream",
          "text": [
            "Shape of X_train :  (213605, 29)\n",
            "Shape of X_test :  (71202, 29)\n",
            "Shape of Y_train :  (213605,)\n",
            "Shape of Y_test :  (71202,)\n"
          ],
          "name": "stdout"
        }
      ]
    },
    {
      "cell_type": "markdown",
      "metadata": {
        "id": "Va0GYTSdE9x2",
        "colab_type": "text"
      },
      "source": [
        "4. Sampling to handle imbalanced target label - under, over and SMOTE"
      ]
    },
    {
      "cell_type": "code",
      "metadata": {
        "id": "_4IWat3KBFja",
        "colab_type": "code",
        "colab": {
          "base_uri": "https://localhost:8080/",
          "height": 139
        },
        "outputId": "e677396a-ea74-42dd-b7ba-1ba99df8fc8b"
      },
      "source": [
        "#Under-sampling\n",
        "from imblearn.under_sampling import RandomUnderSampler\n",
        "rus = RandomUnderSampler(random_state=0)\n",
        "X_under_sampled, y_under_sampled = rus.fit_resample(X_train, Y_train)\n",
        "\n",
        "#Over-sampling\n",
        "from imblearn.over_sampling import RandomOverSampler\n",
        "ros = RandomOverSampler(random_state=0)\n",
        "X_over_sampled, y_over_sampled = ros.fit_resample(X_train, Y_train)\n",
        "\n",
        "#SMOTE\n",
        "from imblearn.over_sampling import SMOTE\n",
        "sm = SMOTE(random_state=2)\n",
        "X_smote, y_smote = sm.fit_sample(X_train, Y_train)"
      ],
      "execution_count": 130,
      "outputs": [
        {
          "output_type": "stream",
          "text": [
            "/usr/local/lib/python3.6/dist-packages/sklearn/utils/deprecation.py:87: FutureWarning: Function safe_indexing is deprecated; safe_indexing is deprecated in version 0.22 and will be removed in version 0.24.\n",
            "  warnings.warn(msg, category=FutureWarning)\n",
            "/usr/local/lib/python3.6/dist-packages/sklearn/utils/deprecation.py:87: FutureWarning: Function safe_indexing is deprecated; safe_indexing is deprecated in version 0.22 and will be removed in version 0.24.\n",
            "  warnings.warn(msg, category=FutureWarning)\n",
            "/usr/local/lib/python3.6/dist-packages/sklearn/utils/deprecation.py:87: FutureWarning: Function safe_indexing is deprecated; safe_indexing is deprecated in version 0.22 and will be removed in version 0.24.\n",
            "  warnings.warn(msg, category=FutureWarning)\n"
          ],
          "name": "stderr"
        }
      ]
    },
    {
      "cell_type": "code",
      "metadata": {
        "id": "mR04agUYBV8A",
        "colab_type": "code",
        "colab": {
          "base_uri": "https://localhost:8080/",
          "height": 68
        },
        "outputId": "2072291a-29ae-4237-cc51-50fa0aa5e1ec"
      },
      "source": [
        "#Check the new shape of each training sample\n",
        "\n",
        "print('Shape of under-sampled train dataset : ', X_under_sampled.shape)\n",
        "print('Shape of over-sampled train dataset : ', X_over_sampled.shape)\n",
        "print('Shape of SMOTE train dataset : ', X_smote.shape)"
      ],
      "execution_count": 131,
      "outputs": [
        {
          "output_type": "stream",
          "text": [
            "Shape of under-sampled train dataset :  (748, 29)\n",
            "Shape of over-sampled train dataset :  (426462, 29)\n",
            "Shape of SMOTE train dataset :  (426462, 29)\n"
          ],
          "name": "stdout"
        }
      ]
    },
    {
      "cell_type": "markdown",
      "metadata": {
        "id": "i2aVgBm2BXBq",
        "colab_type": "text"
      },
      "source": [
        "The under-sampled dataset contains very few data points, adn hence will nt be used for modeling. The next step is to chosse between over-sampled and SMOTE dataset. We will run a DNN model on both and see which one performs better\n"
      ]
    },
    {
      "cell_type": "markdown",
      "metadata": {
        "id": "Vcl1PqtVIaFX",
        "colab_type": "text"
      },
      "source": [
        "5. Convert the training dataset (both predictors as well as target variable) to an N-dimensional array of size (29, 142144) for vectorized implementation of neural networks."
      ]
    },
    {
      "cell_type": "code",
      "metadata": {
        "id": "p_7vpg55Hds9",
        "colab_type": "code",
        "outputId": "1973c558-067f-4daf-b643-88e8f2a1db0d",
        "colab": {
          "base_uri": "https://localhost:8080/",
          "height": 68
        }
      },
      "source": [
        "# Convert the training samples to ND-arrays for creating a DNN from scratch.\n",
        "print('SMOTE dataset :')\n",
        "features_smote = X_smote.T\n",
        "print(features_smote.shape)\n",
        "\n",
        "labels_smote = y_smote.reshape(-1,1).T\n",
        "print(labels_smote.shape)\n"
      ],
      "execution_count": 132,
      "outputs": [
        {
          "output_type": "stream",
          "text": [
            "SMOTE dataset :\n",
            "(29, 426462)\n",
            "(1, 426462)\n"
          ],
          "name": "stdout"
        }
      ]
    },
    {
      "cell_type": "markdown",
      "metadata": {
        "id": "SeT5bc2kNd-t",
        "colab_type": "text"
      },
      "source": [
        "6. Defining sigmoid and RELU function for implementation in the later part\n"
      ]
    },
    {
      "cell_type": "code",
      "metadata": {
        "id": "5goqqWSNNi2a",
        "colab_type": "code",
        "colab": {}
      },
      "source": [
        "def sigmoid(Z):\n",
        "\n",
        "    A = 1/(1+np.exp(-Z))\n",
        "    cache = Z\n",
        "    return A, cache\n",
        "\n",
        "def relu(Z):\n",
        "   \n",
        "    A = np.maximum(0,Z)\n",
        "    assert(A.shape == Z.shape)\n",
        "    cache = Z \n",
        "    return A, cache\n",
        "\n",
        "\n",
        "def relu_backward(dA, cache):\n",
        "    \n",
        "    Z = cache\n",
        "    dZ = np.array(dA, copy=True) \n",
        "  \n",
        "    dZ[Z <= 0] = 0\n",
        "    \n",
        "    assert (dZ.shape == Z.shape)\n",
        "    \n",
        "    return dZ\n",
        "\n",
        "def sigmoid_backward(dA, cache):\n",
        "   \n",
        "    Z = cache\n",
        "    \n",
        "    s = 1/(1+np.exp(-Z))\n",
        "    dZ = dA * s * (1-s)\n",
        "    \n",
        "    assert (dZ.shape == Z.shape)\n",
        "    \n",
        "    return dZ"
      ],
      "execution_count": 0,
      "outputs": []
    },
    {
      "cell_type": "markdown",
      "metadata": {
        "id": "2x9EIJcLJk0h",
        "colab_type": "text"
      },
      "source": [
        "7. Initializing parameters - the linear forward part of the model\n"
      ]
    },
    {
      "cell_type": "code",
      "metadata": {
        "id": "kbBaProyJnYf",
        "colab_type": "code",
        "colab": {}
      },
      "source": [
        "def initialize_parameters_deep(layer_dims):\n",
        "    \n",
        "    np.random.seed(3)\n",
        "    parameters = {}\n",
        "    L = len(layer_dims)           \n",
        "\n",
        "    for l in range(1, L):\n",
        "       \n",
        "        parameters['W' + str(l)] = np.random.randn(layer_dims[l], layer_dims[l-1]) * 0.01\n",
        "        parameters['b' + str(l)] =  np.zeros((layer_dims[l], 1))\n",
        "       \n",
        "        assert(parameters['W' + str(l)].shape == (layer_dims[l], layer_dims[l-1]))\n",
        "        assert(parameters['b' + str(l)].shape == (layer_dims[l], 1))\n",
        "\n",
        "        \n",
        "    return parameters"
      ],
      "execution_count": 0,
      "outputs": []
    },
    {
      "cell_type": "markdown",
      "metadata": {
        "id": "FUVhQOzWMHtP",
        "colab_type": "text"
      },
      "source": [
        "8. Doing the forward propagation \n"
      ]
    },
    {
      "cell_type": "code",
      "metadata": {
        "id": "Eg3YFXWMMKw_",
        "colab_type": "code",
        "colab": {}
      },
      "source": [
        "#This is the linear forward model\n",
        "def linear_forward(A, W, b):\n",
        "\n",
        "    Z = np.dot(W, A) + b\n",
        "    assert(Z.shape == (W.shape[0], A.shape[1]))\n",
        "    cache = (A, W, b)\n",
        "    return Z, cache\n"
      ],
      "execution_count": 0,
      "outputs": []
    },
    {
      "cell_type": "code",
      "metadata": {
        "id": "7XNyE_Q_OLtn",
        "colab_type": "code",
        "colab": {}
      },
      "source": [
        "#This is the linear activation forward model\n",
        "def linear_activation_forward(A_prev, W, b, activation):\n",
        "   \n",
        "    if activation == \"sigmoid\":\n",
        "       \n",
        "        Z, linear_cache  = linear_forward(A_prev, W, b)\n",
        "        A, activation_cache = sigmoid(Z)\n",
        "        \n",
        "    elif activation == \"relu\":\n",
        "       \n",
        "        Z, linear_cache = linear_forward(A_prev, W, b)\n",
        "        A, activation_cache = relu(Z)\n",
        "       \n",
        "    assert (A.shape == (W.shape[0], A_prev.shape[1]))\n",
        "    cache = (linear_cache, activation_cache)\n",
        "\n",
        "    return A, cache"
      ],
      "execution_count": 0,
      "outputs": []
    },
    {
      "cell_type": "code",
      "metadata": {
        "id": "BhQpr4R1MqCk",
        "colab_type": "code",
        "colab": {}
      },
      "source": [
        "#Defining a final forward model to implement the linear as well as activation functions\n",
        "def L_model_forward(X, parameters):\n",
        "\n",
        "    caches = []\n",
        "    A = X\n",
        "    L = len(parameters) // 2                  \n",
        "\n",
        "    for l in range(1, L):\n",
        "        A_prev = A \n",
        "      \n",
        "        A, cache = linear_activation_forward(A_prev, parameters['W' + str(l)], parameters['b' + str(l)], activation = \"relu\")\n",
        "        caches.append(cache)\n",
        "\n",
        "    AL, cache = linear_activation_forward(A, parameters['W' + str(L)], parameters['b' + str(L)], activation = \"sigmoid\")\n",
        "    caches.append(cache)\n",
        "   \n",
        "    assert(AL.shape == (1,X.shape[1]))\n",
        "            \n",
        "    return AL, caches"
      ],
      "execution_count": 0,
      "outputs": []
    },
    {
      "cell_type": "markdown",
      "metadata": {
        "id": "qcxrPr5b2DaV",
        "colab_type": "text"
      },
      "source": [
        "9. Computing the cost function"
      ]
    },
    {
      "cell_type": "code",
      "metadata": {
        "id": "jhanaXo32JbA",
        "colab_type": "code",
        "colab": {}
      },
      "source": [
        "def compute_cost(AL, Y):\n",
        "   \n",
        "    m = Y.shape[1]\n",
        "    logprobs = np.multiply(np.log(AL),Y) +  np.multiply(np.log(1-AL), (1-Y))\n",
        "    cost = -1/m*np.sum(logprobs)\n",
        "    cost = np.squeeze(cost)      \n",
        "    assert(cost.shape == ())\n",
        "    \n",
        "    return cost"
      ],
      "execution_count": 0,
      "outputs": []
    },
    {
      "cell_type": "markdown",
      "metadata": {
        "id": "CBM4bF9E39MX",
        "colab_type": "text"
      },
      "source": [
        "10. The next step is to do backward propagation based on the output of cost function"
      ]
    },
    {
      "cell_type": "code",
      "metadata": {
        "id": "ceFt1f0d4C2W",
        "colab_type": "code",
        "colab": {}
      },
      "source": [
        "#Linear backward model\n",
        "def linear_backward(dZ, cache):\n",
        "   \n",
        "    A_prev, W, b = cache\n",
        "    m = A_prev.shape[1]\n",
        "    dW = 1./m*np.dot(dZ, A_prev.T)\n",
        "    db = 1./m*np.sum(dZ, axis = 1, keepdims=True)\n",
        "    dA_prev = np.dot(W.T, dZ)\n",
        "    assert (dA_prev.shape == A_prev.shape)\n",
        "    assert (dW.shape == W.shape)\n",
        "    assert (db.shape == b.shape)\n",
        "    \n",
        "    return dA_prev, dW, db\n"
      ],
      "execution_count": 0,
      "outputs": []
    },
    {
      "cell_type": "code",
      "metadata": {
        "id": "x8wtlCe34ywm",
        "colab_type": "code",
        "colab": {}
      },
      "source": [
        "#Linear backward activation model\n",
        "def linear_activation_backward(dA, cache, activation):\n",
        "   \n",
        "    linear_cache, activation_cache = cache\n",
        "    \n",
        "    if activation == \"relu\":\n",
        "        dZ = relu_backward(dA, activation_cache)\n",
        "        dA_prev, dW, db = linear_backward(dZ, linear_cache)\n",
        "    elif activation == \"sigmoid\":\n",
        "       \n",
        "        dZ = sigmoid_backward(dA, activation_cache)\n",
        "        dA_prev, dW, db = linear_backward(dZ, linear_cache)\n",
        "      \n",
        "    return dA_prev, dW, db"
      ],
      "execution_count": 0,
      "outputs": []
    },
    {
      "cell_type": "code",
      "metadata": {
        "id": "KwiMuuBR7Q6i",
        "colab_type": "code",
        "colab": {}
      },
      "source": [
        "def L_model_backward(AL, Y, caches):\n",
        "    \n",
        "    grads = {}\n",
        "    L = len(caches) \n",
        "    m = AL.shape[1]\n",
        "    Y = Y.reshape(AL.shape) \n",
        "    dAL = - (np.divide(Y, AL) - np.divide(1 - Y, 1 - AL))\n",
        "    current_cache = caches[L-1]\n",
        "    grads[\"dA\" + str(L)], grads[\"dW\" + str(L)], grads[\"db\" + str(L)] = linear_activation_backward(dAL, current_cache, activation = \"sigmoid\")\n",
        "    for l in reversed(range(L-1)):\n",
        "       \n",
        "        current_cache = caches[l]\n",
        "        dA_prev_temp, dW_temp, db_temp = linear_activation_backward(grads[\"dA\" + str(l + 2)],  current_cache, activation = \"relu\")\n",
        "        grads[\"dA\" + str(l + 1)] = dA_prev_temp\n",
        "        grads[\"dW\" + str(l + 1)] = dW_temp\n",
        "        grads[\"db\" + str(l + 1)] = db_temp\n",
        "    return grads"
      ],
      "execution_count": 0,
      "outputs": []
    },
    {
      "cell_type": "markdown",
      "metadata": {
        "id": "1k9DiCCq7dDg",
        "colab_type": "text"
      },
      "source": [
        "11. Updating parameters - weight and bias for each layer, each unit"
      ]
    },
    {
      "cell_type": "code",
      "metadata": {
        "id": "obsmvuZK7jgF",
        "colab_type": "code",
        "colab": {}
      },
      "source": [
        "def update_parameters(parameters, grads, learning_rate):\n",
        "    \n",
        "    L = len(parameters) // 2 \n",
        "    for l in range(L):\n",
        "        parameters[\"W\" + str(l+1)] = parameters[\"W\" + str(l+1)] - learning_rate * grads[\"dW\" + str(l + 1)]\n",
        "        parameters[\"b\" + str(l+1)] = parameters[\"b\" + str(l+1)] - learning_rate * grads[\"db\" + str(l + 1)]  \n",
        "    return parameters"
      ],
      "execution_count": 0,
      "outputs": []
    },
    {
      "cell_type": "markdown",
      "metadata": {
        "id": "chZuPUcjNcUr",
        "colab_type": "text"
      },
      "source": [
        "12. Implement the full L-layer model\n",
        "\n",
        "```\n",
        "# This is formatted as code\n",
        "```\n",
        "\n"
      ]
    },
    {
      "cell_type": "code",
      "metadata": {
        "id": "1lJ3ONQY8DZZ",
        "colab_type": "code",
        "colab": {}
      },
      "source": [
        "def L_layer_model(X, Y, layers_dims, learning_rate = 0.0075, num_iterations = 3000, print_cost=False):\n",
        "\n",
        "    np.random.seed(1)\n",
        "    costs = []                        \n",
        "\n",
        "    parameters = initialize_parameters_deep(layers_dims)\n",
        "  \n",
        "    for i in range(0, num_iterations):\n",
        "\n",
        "       \n",
        "        AL, caches = L_model_forward(X, parameters)\n",
        "        cost = compute_cost(AL, Y)\n",
        "        grads = L_model_backward(AL, Y, caches)\n",
        "        parameters = update_parameters(parameters, grads, learning_rate)\n",
        "        if print_cost and i % 100 == 0:\n",
        "            print (\"Cost after iteration %i: %f\" %(i, cost))\n",
        "        if print_cost and i % 100 == 0:\n",
        "            costs.append(cost)\n",
        "            \n",
        "    # plot the cost\n",
        "    plt.plot(np.squeeze(costs))\n",
        "    plt.ylabel('cost')\n",
        "    plt.xlabel('iterations (per hundreds)')\n",
        "    plt.title(\"Learning rate =\" + str(learning_rate))\n",
        "    plt.show()\n",
        "    \n",
        "    return parameters"
      ],
      "execution_count": 0,
      "outputs": []
    },
    {
      "cell_type": "code",
      "metadata": {
        "id": "nXVFWHYG8RA5",
        "colab_type": "code",
        "outputId": "9ab811ee-19fc-420b-ca73-eb8f9a56ba63",
        "colab": {
          "base_uri": "https://localhost:8080/",
          "height": 805
        }
      },
      "source": [
        "dimensions = [features_smote.shape[0], 24, 20, 5, labels_smote.shape[0]]\n",
        "parameters = L_layer_model(features_smote, labels_smote, dimensions, num_iterations = 3000, print_cost = True)"
      ],
      "execution_count": 144,
      "outputs": [
        {
          "output_type": "stream",
          "text": [
            "Cost after iteration 0: 0.693152\n",
            "Cost after iteration 100: 0.693152\n",
            "Cost after iteration 200: 0.693152\n",
            "Cost after iteration 300: 0.693151\n",
            "Cost after iteration 400: 0.693151\n",
            "Cost after iteration 500: 0.693151\n",
            "Cost after iteration 600: 0.693150\n",
            "Cost after iteration 700: 0.693150\n",
            "Cost after iteration 800: 0.693150\n",
            "Cost after iteration 900: 0.693149\n",
            "Cost after iteration 1000: 0.693149\n",
            "Cost after iteration 1100: 0.693149\n",
            "Cost after iteration 1200: 0.693149\n",
            "Cost after iteration 1300: 0.693149\n",
            "Cost after iteration 1400: 0.693148\n",
            "Cost after iteration 1500: 0.693148\n",
            "Cost after iteration 1600: 0.693148\n",
            "Cost after iteration 1700: 0.693148\n",
            "Cost after iteration 1800: 0.693148\n",
            "Cost after iteration 1900: 0.693148\n",
            "Cost after iteration 2000: 0.693148\n",
            "Cost after iteration 2100: 0.693148\n",
            "Cost after iteration 2200: 0.693147\n",
            "Cost after iteration 2300: 0.693147\n",
            "Cost after iteration 2400: 0.693147\n",
            "Cost after iteration 2500: 0.693147\n",
            "Cost after iteration 2600: 0.693147\n",
            "Cost after iteration 2700: 0.693147\n",
            "Cost after iteration 2800: 0.693147\n",
            "Cost after iteration 2900: 0.693147\n"
          ],
          "name": "stdout"
        },
        {
          "output_type": "display_data",
          "data": {
            "image/png": "[encoded data removed]",
            "text/plain": [
              "<Figure size 432x288 with 1 Axes>"
            ]
          },
          "metadata": {
            "tags": []
          }
        }
      ]
    },
    {
      "cell_type": "code",
      "metadata": {
        "id": "AQjnDRomvbpe",
        "colab_type": "code",
        "colab": {}
      },
      "source": [
        "def predict(parameters, X):\n",
        "   \n",
        "    A2, cache = L_model_forward(X, parameters)\n",
        "    predictions = np.round(A2)\n",
        "    return predictions"
      ],
      "execution_count": 0,
      "outputs": []
    },
    {
      "cell_type": "code",
      "metadata": {
        "id": "-aD2L5g5uWH5",
        "colab_type": "code",
        "colab": {}
      },
      "source": [
        "pred_train = predict(parameters, features)\n",
        "pred_test = predict(parameters, np.asarray(X_test).T)"
      ],
      "execution_count": 0,
      "outputs": []
    },
    {
      "cell_type": "code",
      "metadata": {
        "id": "u8uhAF67qIzx",
        "colab_type": "code",
        "colab": {
          "base_uri": "https://localhost:8080/",
          "height": 51
        },
        "outputId": "3bd88056-7fcf-4f1a-b564-89866d397339"
      },
      "source": [
        "#Computing accuracy and sensitivity for the predicted validation set\n",
        "actual_labels = np.asarray(Y_test).reshape(1,-1)\n",
        "predicted_labels = pred_test\n",
        "\n",
        "TP = np.squeeze(np.dot(actual_labels,predicted_labels.T))\n",
        "TN = np.squeeze(np.dot(1-actual_labels,1-predicted_labels.T))\n",
        "FN = np.squeeze(actual_labels[np.where(actual_labels == 0)].shape[0]  -   np.dot(1-actual_labels,1-predicted_labels.T))\n",
        "\n",
        "accuracy  = (TP + TN)/(actual_labels.size)\n",
        "sensitivity = np.round((TP*100/(TP+FN)),2)\n",
        "print ('Accuracy: %d' % float((np.dot(actual_labels,predicted_labels.T) + np.dot(1-actual_labels,1-predicted_labels.T))/float(actual_labels.size)*100) + '%')\n",
        "print(sensitivity)"
      ],
      "execution_count": 148,
      "outputs": [
        {
          "output_type": "stream",
          "text": [
            "Accuracy: 17%\n",
            "0.17\n"
          ],
          "name": "stdout"
        }
      ]
    }
  ]
}